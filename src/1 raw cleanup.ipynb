{
 "cells": [
  {
   "cell_type": "markdown",
   "id": "948665ee-0128-4007-86ce-3435b1a76cef",
   "metadata": {},
   "source": [
    "# cleanup"
   ]
  },
  {
   "cell_type": "markdown",
   "id": "c899a5ae-889b-4330-9823-9c552874c7c1",
   "metadata": {},
   "source": [
    "## CSV RAW cleanup"
   ]
  },
  {
   "cell_type": "code",
   "execution_count": 4,
   "id": "e3aab663-f65d-4ac6-af8e-33958b8ada03",
   "metadata": {
    "scrolled": true
   },
   "outputs": [
    {
     "name": "stderr",
     "output_type": "stream",
     "text": [
      "INFO:root:Loading JSON file...\n",
      "INFO:root:Loading input CSV file...\n",
      "INFO:root:Filtering columns in CSV file...\n",
      "INFO:root:Writing cleaned CSV to output file...\n",
      "INFO:root:Successfully written to Niederscherli_raw.csv\n"
     ]
    }
   ],
   "source": [
    "import pandas as pd\n",
    "import json\n",
    "import logging\n",
    "\n",
    "# Set up logging\n",
    "logging.basicConfig(level=logging.INFO)\n",
    "\n",
    "# Define file paths\n",
    "input_csv = 'Niederscherli.csv'\n",
    "json_file = 'clean_raw.json'\n",
    "output_file = 'Niederscherli_raw.csv'\n",
    "\n",
    "def clean_csv(input_csv, json_file, output_file):\n",
    "    # Load the JSON file\n",
    "    logging.info('Loading JSON file...')\n",
    "    with open(json_file, 'r') as f:\n",
    "        config = json.load(f)\n",
    "\n",
    "    # Load the input CSV\n",
    "    logging.info('Loading input CSV file...')\n",
    "    df = pd.read_csv(input_csv)\n",
    "\n",
    "    # Get the list of columns to keep from the JSON file\n",
    "    logging.info('Filtering columns in CSV file...')\n",
    "    columns_to_keep = config['columns']\n",
    "    df = df[columns_to_keep]\n",
    "\n",
    "    # Save the output file\n",
    "    logging.info('Writing cleaned CSV to output file...')\n",
    "    df.to_csv(output_file, index=False)\n",
    "\n",
    "    logging.info(f'Successfully written to {output_file}')\n",
    "\n",
    "# Call the function with the hardcoded file paths\n",
    "clean_csv(input_csv, json_file, output_file)\n"
   ]
  }
 ],
 "metadata": {
  "kernelspec": {
   "display_name": "Python 3",
   "language": "python",
   "name": "python3"
  },
  "language_info": {
   "codemirror_mode": {
    "name": "ipython",
    "version": 3
   },
   "file_extension": ".py",
   "mimetype": "text/x-python",
   "name": "python",
   "nbconvert_exporter": "python",
   "pygments_lexer": "ipython3",
   "version": "3.8.5"
  }
 },
 "nbformat": 4,
 "nbformat_minor": 5
}
