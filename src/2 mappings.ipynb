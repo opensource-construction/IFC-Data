{
 "cells": [
  {
   "cell_type": "markdown",
   "id": "28a18a05-bd31-4cbb-83e6-87aeade88f15",
   "metadata": {
    "editable": true,
    "jp-MarkdownHeadingCollapsed": true,
    "slideshow": {
     "slide_type": ""
    },
    "tags": []
   },
   "source": [
    "# Mapping Struktur"
   ]
  },
  {
   "cell_type": "code",
   "execution_count": 310,
   "id": "c70807bb-fc5f-45be-81b9-3193062d1edc",
   "metadata": {},
   "outputs": [],
   "source": [
    "import json\n",
    "\n",
    "# Config variable\n",
    "config = {}\n",
    "\n",
    "def reset_config():\n",
    "    # This function initializes or re-initializes the config to be an empty list\n",
    "    global config\n",
    "    config = {\n",
    "        \"condition_groups\": []\n",
    "    }\n",
    "\n",
    "def add_condition(column, operator, value):\n",
    "    condition = {\n",
    "        \"column\": column,\n",
    "        \"operator\": operator,\n",
    "        \"value\": value\n",
    "    }\n",
    "    return condition\n",
    "\n",
    "def add_action(type_, target_column, value=None, source_column=None):\n",
    "    action = {\n",
    "        \"type\": type_,\n",
    "        \"target_column\": target_column\n",
    "    }\n",
    "    if type_ == 'set':\n",
    "        action['value'] = value\n",
    "    elif type_ == 'copy':\n",
    "        action['source_column'] = source_column\n",
    "    return action\n",
    "\n",
    "def add_condition_group(conditions, actions):\n",
    "    group = {\n",
    "        \"conditions\": conditions,\n",
    "        \"actions\": actions\n",
    "    }\n",
    "    config['condition_groups'].append(group)\n",
    "\n",
    "def save_config(json_file):\n",
    "    with open(json_file, 'w') as f:\n",
    "        json.dump(config, f, indent=2)\n",
    "\n",
    "# Call the reset_config function at the start of your script\n",
    "reset_config()\n"
   ]
  },
  {
   "cell_type": "markdown",
   "id": "e8e99fc8-e365-4bb8-b36d-b4a5749c86f4",
   "metadata": {
    "jp-MarkdownHeadingCollapsed": true
   },
   "source": [
    "# Allgemein"
   ]
  },
  {
   "cell_type": "markdown",
   "id": "019d7423-abd4-4c5c-89eb-4aaf46e59536",
   "metadata": {},
   "source": [
    "### Global ID"
   ]
  },
  {
   "cell_type": "code",
   "execution_count": 311,
   "id": "bb1e38e0-4a2f-4808-ad07-72107c911a4b",
   "metadata": {},
   "outputs": [],
   "source": [
    "conditions = []\n",
    "actions = []\n",
    "\n",
    "# Add conditions\n",
    "conditions.append(add_condition(\"GlobalID\", operator='not_null', value=None))\n",
    "\n",
    "# Add actions\n",
    "actions.append(add_action(\"copy\", source_column=\"GlobalID\", target_column=\"vyzn.source.GUID\"))\n",
    "actions.append(add_action(\"copy\", source_column=\"TIMBER_OS.Bauteiltyp\", target_column=\"vyzn.source.ElementName\"))\n",
    "\n",
    "# Add to config\n",
    "add_condition_group(conditions, actions)\n",
    "\n",
    "save_config('transform.json')"
   ]
  },
  {
   "cell_type": "markdown",
   "id": "27701dec-83b9-493b-9189-0389314f3211",
   "metadata": {},
   "source": [
    "### ElementType"
   ]
  },
  {
   "cell_type": "code",
   "execution_count": 312,
   "id": "49c11a0a-fafc-49cf-a92f-e3fdaf359958",
   "metadata": {},
   "outputs": [],
   "source": [
    "conditions = []\n",
    "actions = []\n",
    "\n",
    "# Add conditions\n",
    "conditions.append(add_condition(\"GlobalID\", operator='not_null', value=None))\n",
    "\n",
    "# Add actions\n",
    "actions.append(add_action(\"copy\", source_column=\"Class\", target_column=\"vyzn.reference.ElementType\"))\n",
    "\n",
    "# Add to config\n",
    "add_condition_group(conditions, actions)\n",
    "\n",
    "save_config('transform.json')"
   ]
  },
  {
   "cell_type": "markdown",
   "id": "aa3c9686-a5ec-47d8-8788-e71dbc64f5da",
   "metadata": {
    "jp-MarkdownHeadingCollapsed": true
   },
   "source": [
    "# Bauteiltypen"
   ]
  },
  {
   "cell_type": "markdown",
   "id": "05ac27d0-b106-4c13-8962-5123cf88c04c",
   "metadata": {
    "jp-MarkdownHeadingCollapsed": true
   },
   "source": [
    "## Wände"
   ]
  },
  {
   "cell_type": "markdown",
   "id": "1eeb7fad-6763-4e3c-8c06-08f588323502",
   "metadata": {
    "jp-MarkdownHeadingCollapsed": true
   },
   "source": [
    "### Flächen"
   ]
  },
  {
   "cell_type": "code",
   "execution_count": 313,
   "id": "4041059f-0b6c-4ad4-bac2-d3bd0277dbbc",
   "metadata": {},
   "outputs": [],
   "source": [
    "conditions = []\n",
    "actions = []\n",
    "\n",
    "# Add conditions\n",
    "conditions.append(add_condition(\"Class\", operator=\"equals\", value=\"IfcWall\"))\n",
    "\n",
    "# Add actions\n",
    "actions.append(add_action(\"copy\", source_column=\"ArchiCADQuantities.Oberflächenbereich der Wand-Außenfläche (brutto)\", target_column=\"vyzn.reference.NetArea\"))\n",
    "actions.append(add_action(\"set\", target_column=\"vyzn.reference.ElementType\", value=\"Wand\"))\n",
    "\n",
    "# Add to config\n",
    "add_condition_group(conditions, actions)\n",
    "\n",
    "save_config('transform.json')"
   ]
  },
  {
   "cell_type": "markdown",
   "id": "0e4d9abc-8789-4c45-a0fe-cb132665aaea",
   "metadata": {},
   "source": [
    "### Aussenwand"
   ]
  },
  {
   "cell_type": "code",
   "execution_count": 314,
   "id": "c6b28301-ec6f-46e1-9d75-3da776e1fcb4",
   "metadata": {},
   "outputs": [],
   "source": [
    "conditions = []\n",
    "actions = []\n",
    "\n",
    "# Add conditions\n",
    "conditions.append(add_condition(\"Class\", operator=\"equals\", value=\"IfcWall\"))\n",
    "conditions.append(add_condition(\"ArchiCADProperties.Ebene\", operator=\"contains\", value=\"010 Aussenwände\"))\n",
    "\n",
    "# Add actions\n",
    "actions.append(add_action(\"set\", target_column=\"vyzn.context.group\", value=\"Aussenwand\"))\n",
    "actions.append(add_action(\"set\", target_column=\"vyzn.source.ElementName\", value=\"Aussenwand tragend Holz\"))\n",
    "\n",
    "\n",
    "# Add to config\n",
    "add_condition_group(conditions, actions)\n",
    "\n",
    "save_config('transform.json')"
   ]
  },
  {
   "cell_type": "markdown",
   "id": "8e53112a-a1aa-4223-8f58-ed12abf13eb5",
   "metadata": {},
   "source": [
    "### Innenwand"
   ]
  },
  {
   "cell_type": "code",
   "execution_count": 315,
   "id": "d9ab9457-c382-4f88-99bb-20cac64c965a",
   "metadata": {},
   "outputs": [],
   "source": [
    "conditions = []\n",
    "actions = []\n",
    "\n",
    "# Add conditions\n",
    "conditions.append(add_condition(\"Class\", operator=\"equals\", value=\"IfcWall\"))\n",
    "conditions.append(add_condition(\"ArchiCADProperties.Ebene\", operator=\"contains\", value=\"016 Innennwände\"))\n",
    "\n",
    "# Add actions\n",
    "actions.append(add_action(\"set\", target_column=\"vyzn.context.group\", value=\"Innenwand\"))\n",
    "actions.append(add_action(\"set\", target_column=\"vyzn.source.ElementName\", value=\"Wohnungtrennwand Holz\"))\n",
    "\n",
    "# Add to config\n",
    "add_condition_group(conditions, actions)\n",
    "\n",
    "save_config('transform.json')"
   ]
  },
  {
   "cell_type": "markdown",
   "id": "cc367e65-c6ee-4259-97c0-dfa383cdb3ee",
   "metadata": {},
   "source": [
    "### Kernwand"
   ]
  },
  {
   "cell_type": "code",
   "execution_count": 316,
   "id": "f6c03ac2-3493-415b-9875-2f0c800704d5",
   "metadata": {},
   "outputs": [],
   "source": [
    "conditions = []\n",
    "actions = []\n",
    "\n",
    "# Add conditions\n",
    "conditions.append(add_condition(\"Class\", operator=\"equals\", value=\"IfcWall\"))\n",
    "conditions.append(add_condition(\"ArchiCADProperties.Ebene\", operator=\"contains\", value=\"015 Wohnungstrennwände / Kernwände\"))\n",
    "\n",
    "# Add actions\n",
    "actions.append(add_action(\"set\", target_column=\"vyzn.context.group\", value=\"Kernwand\"))\n",
    "actions.append(add_action(\"set\", target_column=\"vyzn.source.ElementName\", value=\"Treppenhauswand Holz\"))\n",
    "\n",
    "# Add to config\n",
    "add_condition_group(conditions, actions)\n",
    "\n",
    "save_config('transform.json')"
   ]
  },
  {
   "cell_type": "markdown",
   "id": "268828db-a6da-4a60-ab7a-69e72a542399",
   "metadata": {},
   "source": [
    "### Balkonbrüstung"
   ]
  },
  {
   "cell_type": "code",
   "execution_count": 317,
   "id": "be2b9457-15de-4bf8-b49c-67f245ac94c6",
   "metadata": {
    "jupyter": {
     "source_hidden": true
    }
   },
   "outputs": [],
   "source": [
    "conditions = []\n",
    "actions = []\n",
    "\n",
    "# Add conditions\n",
    "conditions.append(add_condition(\"Class\", operator=\"equals\", value=\"IfcWall\"))\n",
    "conditions.append(add_condition(\"ArchiCADProperties.Ebene\", operator=\"contains\", value=\"012 Balkonbrüstung\"))\n",
    "\n",
    "\n",
    "# Add actions\n",
    "actions.append(add_action(\"set\", target_column=\"vyzn.context.group\", value=\"Balkonbrüstung\"))\n",
    "\n",
    "# Add to config\n",
    "add_condition_group(conditions, actions)\n",
    "\n",
    "save_config('transform.json')"
   ]
  },
  {
   "cell_type": "markdown",
   "id": "7c5d4c2a-83b7-4e89-85ec-2271d5f629be",
   "metadata": {},
   "source": [
    "### Vormauerungen"
   ]
  },
  {
   "cell_type": "code",
   "execution_count": 318,
   "id": "503b9c21-b5fe-4437-820d-0e6dfbfa72bc",
   "metadata": {},
   "outputs": [],
   "source": [
    "conditions = []\n",
    "actions = []\n",
    "\n",
    "# Add conditions\n",
    "conditions.append(add_condition(\"Class\", operator=\"equals\", value=\"IfcWall\"))\n",
    "conditions.append(add_condition(\"ArchiCADProperties.Ebene\", operator=\"contains\", value=\"017 Vormauerungen\"))\n",
    "\n",
    "\n",
    "# Add actions\n",
    "actions.append(add_action(\"set\", target_column=\"vyzn.context.group\", value=\"Vormauerungen\"))\n",
    "\n",
    "# Add to config\n",
    "add_condition_group(conditions, actions)\n",
    "\n",
    "save_config('transform.json')"
   ]
  },
  {
   "cell_type": "markdown",
   "id": "6042de59-c212-4f65-93cd-a59e2830bb83",
   "metadata": {
    "jp-MarkdownHeadingCollapsed": true
   },
   "source": [
    "## Räume"
   ]
  },
  {
   "cell_type": "code",
   "execution_count": 319,
   "id": "257ddbe1-1a7e-44ba-a973-532fe258b3dc",
   "metadata": {},
   "outputs": [],
   "source": [
    "conditions = []\n",
    "actions = []\n",
    "\n",
    "# Add conditions\n",
    "conditions.append(add_condition(\"Class\", operator=\"equals\", value=\"IfcSpace\"))\n",
    "\n",
    "# Add actions\n",
    "actions.append(add_action(\"set\", target_column=\"vyzn.reference.ElementType\", value=\"Raum\"))\n",
    "actions.append(add_action(\"copy\", source_column=\"ArchiCADProperties.Raumname\", target_column=\"vyzn.context.group\"))\n",
    "actions.append(add_action(\"copy\", source_column=\"ArchiCADQuantities.Fläche\", target_column=\"vyzn.reference.NetArea\"))\n",
    "# actions.append(add_action(\"copy\", source_column=\"TIMBER_OS.Bauteiltyp\", target_column=\"vyzn.products.RoomType\"))\n",
    "actions.append(add_action(\"set\", target_column=\"vyzn.reference.ch.sia380-1.BuildingUtilization\", value=\"Wohnen MFH\"))\n",
    "actions.append(add_action(\"set\", target_column=\"vyzn.source.ch.sia380-1.RegulationFactor\", value=\"Einzelraumregulierung\"))\n",
    "actions.append(add_action(\"set\", target_column=\"vyzn.source.ConstructionType\", value=\"Neubau\"))\n",
    "actions.append(add_action(\"set\", target_column=\"vyzn.source.ThermalCapacity\", value=\"Mittel\"))\n",
    "\n",
    "# Add to config\n",
    "add_condition_group(conditions, actions)\n",
    "\n",
    "save_config('transform.json')"
   ]
  },
  {
   "cell_type": "markdown",
   "id": "4725059c-2ddf-40e5-bc38-bbbbbfba911d",
   "metadata": {
    "jp-MarkdownHeadingCollapsed": true
   },
   "source": [
    "### Raumflächen"
   ]
  },
  {
   "cell_type": "code",
   "execution_count": 320,
   "id": "617e2cad-c499-44a9-8af5-3e40a961c55f",
   "metadata": {},
   "outputs": [],
   "source": [
    "conditions = []\n",
    "actions = []\n",
    "\n",
    "# Add conditions\n",
    "conditions.append(add_condition(\"TIMBER_OS.Bauteiltyp\", operator=\"equals\", value=\"2 GF Geschossfläche\"))\n",
    "\n",
    "# Add actions\n",
    "actions.append(add_action(\"set\", target_column=\"vyzn.products.RoomType\", value=\"2 GF\"))\n",
    "\n",
    "# Add to config\n",
    "add_condition_group(conditions, actions)\n",
    "\n",
    "save_config('transform.json')"
   ]
  },
  {
   "cell_type": "code",
   "execution_count": 321,
   "id": "0085448d-6f02-48c9-8532-a5eff84a9751",
   "metadata": {},
   "outputs": [],
   "source": [
    "conditions = []\n",
    "actions = []\n",
    "\n",
    "# Add conditions\n",
    "conditions.append(add_condition(\"TIMBER_OS.Bauteiltyp\", operator=\"equals\", value=\"2.1.1.1 HNF Hauptnutzfläche\"))\n",
    "\n",
    "# Add actions\n",
    "actions.append(add_action(\"set\", target_column=\"vyzn.products.RoomType\", value=\"2.1.1.1 HNF\"))\n",
    "\n",
    "# Add to config\n",
    "add_condition_group(conditions, actions)\n",
    "\n",
    "save_config('transform.json')"
   ]
  },
  {
   "cell_type": "code",
   "execution_count": 322,
   "id": "b3a3ad3a-ad7d-4d6c-84f7-62e3d266a383",
   "metadata": {},
   "outputs": [],
   "source": [
    "conditions = []\n",
    "actions = []\n",
    "\n",
    "# Add conditions\n",
    "conditions.append(add_condition(\"TIMBER_OS.Bauteiltyp\", operator=\"equals\", value=\"2.1.2 VF Verkehrsfläche\"))\n",
    "\n",
    "# Add actions\n",
    "actions.append(add_action(\"set\", target_column=\"vyzn.products.RoomType\", value=\"2.1.2 VF\"))\n",
    "\n",
    "# Add to config\n",
    "add_condition_group(conditions, actions)\n",
    "\n",
    "save_config('transform.json')"
   ]
  },
  {
   "cell_type": "code",
   "execution_count": 323,
   "id": "38c4e63e-61d1-4649-9811-eccedaa6fc69",
   "metadata": {},
   "outputs": [],
   "source": [
    "conditions = []\n",
    "actions = []\n",
    "\n",
    "# Add conditions\n",
    "conditions.append(add_condition(\"TIMBER_OS.Bauteiltyp\", operator=\"equals\", value=\"3 AGF Aussen-Geschossfläche\"))\n",
    "\n",
    "# Add actions\n",
    "actions.append(add_action(\"set\", target_column=\"vyzn.products.RoomType\", value=\"3 GF\"))\n",
    "\n",
    "# Add to config\n",
    "add_condition_group(conditions, actions)\n",
    "\n",
    "save_config('transform.json')"
   ]
  },
  {
   "cell_type": "code",
   "execution_count": 324,
   "id": "7beacd72-ec4d-46f5-b3fc-36669023f6fc",
   "metadata": {},
   "outputs": [],
   "source": [
    "conditions = []\n",
    "actions = []\n",
    "\n",
    "# Add conditions\n",
    "conditions.append(add_condition(\"TIMBER_OS.Bauteiltyp\", operator=\"equals\", value=\"3.1.1 ANF Aussen-Nutzfläche\"))\n",
    "\n",
    "# Add actions\n",
    "actions.append(add_action(\"set\", target_column=\"vyzn.products.RoomType\", value=\"3.1.1 ANF\"))\n",
    "\n",
    "# Add to config\n",
    "add_condition_group(conditions, actions)\n",
    "\n",
    "save_config('transform.json')"
   ]
  },
  {
   "cell_type": "code",
   "execution_count": 325,
   "id": "3d4df207-794c-4b21-ac1c-c83777bc1e1d",
   "metadata": {},
   "outputs": [],
   "source": [
    "conditions = []\n",
    "actions = []\n",
    "\n",
    "# Add conditions\n",
    "conditions.append(add_condition(\"TIMBER_OS.Bauteiltyp\", operator=\"equals\", value=\"3.1.2 AVF Aussen-Verkehrsfläche\"))\n",
    "\n",
    "# Add actions\n",
    "actions.append(add_action(\"set\", target_column=\"vyzn.products.RoomType\", value=\"3.1.2 AVF\"))\n",
    "\n",
    "# Add to config\n",
    "add_condition_group(conditions, actions)\n",
    "\n",
    "save_config('transform.json')"
   ]
  },
  {
   "cell_type": "code",
   "execution_count": 326,
   "id": "a9a9f4b0-4def-45ad-a668-bab244ac005e",
   "metadata": {},
   "outputs": [],
   "source": [
    "conditions = []\n",
    "actions = []\n",
    "\n",
    "# Add conditions\n",
    "conditions.append(add_condition(\"TIMBER_OS.Bauteiltyp\", operator=\"equals\", value=\"4.1.2 IFSN Innere Fläche zur Sondernutzung\"))\n",
    "\n",
    "# Add actions\n",
    "actions.append(add_action(\"set\", target_column=\"vyzn.products.RoomType\", value=\"4.1.2 IFSN\"))\n",
    "\n",
    "# Add to config\n",
    "add_condition_group(conditions, actions)\n",
    "\n",
    "save_config('transform.json')"
   ]
  },
  {
   "cell_type": "markdown",
   "id": "b0bca95c-ae20-42b9-89d4-a01f703089ac",
   "metadata": {
    "jp-MarkdownHeadingCollapsed": true
   },
   "source": [
    "## Türen"
   ]
  },
  {
   "cell_type": "code",
   "execution_count": 327,
   "id": "03b4d51c-274a-4b86-a975-23b59034228b",
   "metadata": {},
   "outputs": [],
   "source": [
    "conditions = []\n",
    "actions = []\n",
    "\n",
    "# Add conditions\n",
    "conditions.append(add_condition(\"Class\", operator=\"equals\", value=\"IfcDoor\"))\n",
    "\n",
    "# Add actions\n",
    "actions.append(add_action(\"set\", target_column=\"vyzn.reference.ElementType\", value=\"Tür\"))\n",
    "actions.append(add_action(\"copy\", source_column=\"Eigenschaften_Schweiz_Oeffnung.Türtyp\", target_column=\"vyzn.context.group\"))\n",
    "actions.append(add_action(\"copy\", source_column=\"Qto_DoorBaseQuantities.Area\", target_column=\"vyzn.reference.NetArea\"))\n",
    "\n",
    "# Add to config\n",
    "add_condition_group(conditions, actions)\n",
    "\n",
    "save_config('transform.json')"
   ]
  },
  {
   "cell_type": "markdown",
   "id": "2a052d31-f3c3-494f-94a6-925e9eb9ac4d",
   "metadata": {
    "jp-MarkdownHeadingCollapsed": true
   },
   "source": [
    "## Böden"
   ]
  },
  {
   "cell_type": "code",
   "execution_count": 328,
   "id": "fd0d4a60-13ab-43a5-a868-9b51c74a71dd",
   "metadata": {},
   "outputs": [],
   "source": [
    "conditions = []\n",
    "actions = []\n",
    "\n",
    "# Add conditions\n",
    "conditions.append(add_condition(\"Class\", operator=\"equals\", value=\"IfcSlab\"))\n",
    "\n",
    "# Add actions\n",
    "actions.append(add_action(\"set\", target_column=\"vyzn.reference.ElementType\", value=\"Boden\"))\n",
    "actions.append(add_action(\"copy\", source_column=\"ArchiCADProperties.Baustoff / Mehrschichtiger Aufbau / Profil / Schraffur\", target_column=\"vyzn.context.group\"))\n",
    "actions.append(add_action(\"copy\", source_column=\"Qto_SlabBaseQuantities.GrossArea\", target_column=\"vyzn.reference.NetArea\"))\n",
    "\n",
    "# Add to config\n",
    "add_condition_group(conditions, actions)\n",
    "\n",
    "save_config('transform.json')"
   ]
  },
  {
   "cell_type": "markdown",
   "id": "f78ac754-7a92-4141-a9ae-25323b5347da",
   "metadata": {
    "jp-MarkdownHeadingCollapsed": true
   },
   "source": [
    "## Stützen"
   ]
  },
  {
   "cell_type": "code",
   "execution_count": 329,
   "id": "57fd03d2-453d-45be-8fbb-6c152c6818f5",
   "metadata": {},
   "outputs": [],
   "source": [
    "conditions = []\n",
    "actions = []\n",
    "\n",
    "# Add conditions\n",
    "conditions.append(add_condition(\"Class\", operator=\"equals\", value=\"IfcColumn\"))\n",
    "\n",
    "# Add actions\n",
    "actions.append(add_action(\"set\", target_column=\"vyzn.reference.ElementType\", value=\"Stütze\"))\n",
    "\n",
    "# Add to config\n",
    "add_condition_group(conditions, actions)\n",
    "\n",
    "save_config('transform.json')"
   ]
  },
  {
   "cell_type": "markdown",
   "id": "61de94d0-4e2f-4857-8cf3-8cacf7fc5823",
   "metadata": {
    "jp-MarkdownHeadingCollapsed": true
   },
   "source": [
    "## Treppe"
   ]
  },
  {
   "cell_type": "code",
   "execution_count": 330,
   "id": "1f49d679-8582-49e5-8ffe-964ccfebeba1",
   "metadata": {},
   "outputs": [],
   "source": [
    "conditions = []\n",
    "actions = []\n",
    "\n",
    "# Add conditions\n",
    "conditions.append(add_condition(\"Class\", operator=\"equals\", value=\"IfcStair\"))\n",
    "\n",
    "# Add actions\n",
    "actions.append(add_action(\"set\", target_column=\"vyzn.reference.ElementType\", value=\"Treppe\"))\n",
    "\n",
    "# Add to config\n",
    "add_condition_group(conditions, actions)\n",
    "\n",
    "save_config('transform.json')"
   ]
  },
  {
   "cell_type": "markdown",
   "id": "b71b6c2b-45a1-4cda-b4e3-6a3a6e199ccf",
   "metadata": {
    "jp-MarkdownHeadingCollapsed": true
   },
   "source": [
    "## Geländer"
   ]
  },
  {
   "cell_type": "code",
   "execution_count": 331,
   "id": "ad4332ef-055a-45a4-b1b7-e409645fccdc",
   "metadata": {},
   "outputs": [],
   "source": [
    "conditions = []\n",
    "actions = []\n",
    "\n",
    "# Add conditions\n",
    "conditions.append(add_condition(\"Class\", operator=\"equals\", value=\"IfcRailing\"))\n",
    "\n",
    "# Add actions\n",
    "actions.append(add_action(\"set\", target_column=\"vyzn.reference.ElementType\", value=\"Geländer\"))\n",
    "\n",
    "# Add to config\n",
    "add_condition_group(conditions, actions)\n",
    "\n",
    "save_config('transform.json')"
   ]
  },
  {
   "cell_type": "markdown",
   "id": "dc19abad-bf41-4a80-8f0d-bd483a89add8",
   "metadata": {
    "jp-MarkdownHeadingCollapsed": true
   },
   "source": [
    "## Platzhalter"
   ]
  },
  {
   "cell_type": "code",
   "execution_count": 332,
   "id": "46af6fda-7946-4320-83b3-6e9a322da1f8",
   "metadata": {},
   "outputs": [],
   "source": [
    "conditions = []\n",
    "actions = []\n",
    "\n",
    "# Add conditions\n",
    "conditions.append(add_condition(\"Class\", operator=\"equals\", value=\"IfcBuildingElementProxy\"))\n",
    "\n",
    "# Add actions\n",
    "actions.append(add_action(\"set\", target_column=\"vyzn.reference.ElementType\", value=\"Platzhalter\"))\n",
    "\n",
    "# Add to config\n",
    "add_condition_group(conditions, actions)\n",
    "\n",
    "save_config('transform.json')"
   ]
  },
  {
   "cell_type": "markdown",
   "id": "46ddb8cd-01fb-44cd-b80c-76ce24901bcd",
   "metadata": {},
   "source": [
    "# Sonstiges"
   ]
  },
  {
   "cell_type": "markdown",
   "id": "09da148b-1631-4ab2-b011-6f686c8f109b",
   "metadata": {
    "jp-MarkdownHeadingCollapsed": true
   },
   "source": [
    "## Energiebezugsfläche"
   ]
  },
  {
   "cell_type": "code",
   "execution_count": 333,
   "id": "be31214b-b25e-45ac-8fab-1a20b9d6c0b8",
   "metadata": {
    "editable": true,
    "slideshow": {
     "slide_type": ""
    },
    "tags": []
   },
   "outputs": [],
   "source": [
    "conditions = []\n",
    "actions = []\n",
    "\n",
    "# Add conditions\n",
    "conditions.append(add_condition(\"ObjectType\", operator=\"equals\", value=\"Hauptnutzfläche\"))\n",
    "\n",
    "# Add actions\n",
    "actions.append(add_action(\"set\", target_column=\"vyzn.source.RoomType\", value=\"Energiebezugsfläche\"))\n",
    "\n",
    "# Add to config\n",
    "add_condition_group(conditions, actions)\n",
    "\n",
    "save_config('transform.json')"
   ]
  },
  {
   "cell_type": "markdown",
   "id": "bcb124f6-2e5d-4f52-b8c6-a8b2393cfc57",
   "metadata": {
    "jp-MarkdownHeadingCollapsed": true
   },
   "source": [
    "# Execute the Transform"
   ]
  },
  {
   "cell_type": "code",
   "execution_count": 334,
   "id": "f1b82226-de51-42a7-b834-b24ca953a4b1",
   "metadata": {
    "editable": true,
    "slideshow": {
     "slide_type": ""
    },
    "tags": []
   },
   "outputs": [
    {
     "name": "stdout",
     "output_type": "stream",
     "text": [
      "Total number of rows: 7929\n",
      "Number of matches: 26964\n"
     ]
    }
   ],
   "source": [
    "import pandas as pd\n",
    "import json\n",
    "\n",
    "# Define the file paths\n",
    "csv_file = 'Niederscherli_raw.csv'\n",
    "json_file = 'transform.json'\n",
    "output_file = 'Niederscherli_transformed.csv'\n",
    "\n",
    "# Read in the CSV file and the JSON file\n",
    "df = pd.read_csv(csv_file)\n",
    "with open(json_file, 'r') as f:\n",
    "    config = json.load(f)\n",
    "\n",
    "# Total row count\n",
    "total_row_count = len(df)\n",
    "\n",
    "match_count = 0\n",
    "\n",
    "# Apply each condition/action pair from the JSON file\n",
    "for index, row in df.iterrows():\n",
    "    for condition_group in config['condition_groups']:\n",
    "        matched_all_conditions = True\n",
    "        for condition in condition_group['conditions']:\n",
    "            column = condition['column']\n",
    "            values = condition['value'] if isinstance(condition['value'], list) else [condition['value']]\n",
    "            operator = condition.get('operator', 'equals')  # Defaults to 'equals' if no operator provided\n",
    "\n",
    "            if operator == 'equals':\n",
    "                if row[column] not in values:\n",
    "                    matched_all_conditions = False\n",
    "                    break\n",
    "            elif operator == 'contains':\n",
    "                if not any(value in str(row[column]) for value in values):\n",
    "                    matched_all_conditions = False\n",
    "                    break\n",
    "\n",
    "        if matched_all_conditions:\n",
    "            match_count += 1\n",
    "            if 'actions' in condition_group:  # Check if 'actions' key exists\n",
    "                for action in condition_group['actions']:\n",
    "                    if action['type'] == 'set':\n",
    "                        df.at[index, action['target_column']] = action['value']\n",
    "                    elif action['type'] == 'copy':\n",
    "                        df.at[index, action['target_column']] = row[action['source_column']]\n",
    "\n",
    "# Save the updated DataFrame to a new CSV file\n",
    "df.to_csv(output_file, index=False)\n",
    "\n",
    "print(f'Total number of rows: {total_row_count}')\n",
    "print(f'Number of matches: {match_count}')\n"
   ]
  },
  {
   "cell_type": "markdown",
   "id": "302fde9e-e7b6-4f10-93ad-5d53e0f49828",
   "metadata": {
    "jp-MarkdownHeadingCollapsed": true
   },
   "source": [
    "# Create XLSX"
   ]
  },
  {
   "cell_type": "code",
   "execution_count": 335,
   "id": "c65a2fdd-0f1e-4247-bf50-141ab3910633",
   "metadata": {},
   "outputs": [
    {
     "name": "stdout",
     "output_type": "stream",
     "text": [
      "Saved file: Niederscherli A.xlsx\n",
      "Saved file: Niederscherli B.xlsx\n",
      "Saved file: Niederscherli A2.xlsx\n",
      "Saved file: Niederscherli B2.xlsx\n",
      "Saved file: Niederscherli A1.xlsx\n",
      "Saved file: Niederscherli B1.xlsx\n",
      "Saved file: Niederscherli D.xlsx\n",
      "Saved file: Niederscherli STA.xlsx\n",
      "Saved file: Niederscherli C.xlsx\n",
      "Saved file: Niederscherli .xlsx\n",
      "Saved file: Niederscherli D1.xlsx\n",
      "Saved file: Niederscherli D2.xlsx\n",
      "Saved file: Niederscherli AB.xlsx\n",
      "Saved file: Niederscherli CD.xlsx\n",
      "Saved file: Niederscherli BHF.xlsx\n",
      "Saved file: Niederscherli SPE.xlsx\n"
     ]
    }
   ],
   "source": [
    "import csv\n",
    "import openpyxl\n",
    "import os\n",
    "from collections import defaultdict\n",
    "from openpyxl.utils import get_column_letter\n",
    "\n",
    "# Define the file path and project\n",
    "csv_file = 'Niederscherli_transformed.csv'\n",
    "project = 'Niederscherli'\n",
    "\n",
    "def csv_to_xlsx(csv_file, project):\n",
    "    with open(csv_file, 'r') as csvf:\n",
    "        reader = csv.reader(csvf)\n",
    "        headers = next(reader) # get the headers\n",
    "        data = defaultdict(list)\n",
    "        for row in reader:\n",
    "            data[row[headers.index(\"TIMBER_OS.Gebäudenummer\")]].append(row)\n",
    "\n",
    "    # Make export directory if it doesn't exist\n",
    "    if not os.path.exists(\"export\"):\n",
    "        os.makedirs(\"export\")\n",
    "\n",
    "    for key in data.keys():\n",
    "        wb = openpyxl.Workbook()\n",
    "        wb.guess_types = True\n",
    "        ws = wb.active\n",
    "        ws.append(headers)  # Write the header in xlsx\n",
    "        for row in data[key]:  \n",
    "            ws.append(row)  # Write the remaining rows in xlsx\n",
    "        # Save the file in the export directory\n",
    "        filename = f\"{project} {key}.xlsx\"\n",
    "        output_file = os.path.join(\"export\", filename)\n",
    "        wb.save(output_file)\n",
    "        print(f\"Saved file: {filename}\")\n",
    "\n",
    "csv_to_xlsx(csv_file, project)"
   ]
  },
  {
   "cell_type": "code",
   "execution_count": null,
   "id": "cfc70bc3-0db3-4244-8d93-4423d5d19a88",
   "metadata": {},
   "outputs": [],
   "source": []
  }
 ],
 "metadata": {
  "kernelspec": {
   "display_name": "Python 3",
   "language": "python",
   "name": "python3"
  },
  "language_info": {
   "codemirror_mode": {
    "name": "ipython",
    "version": 3
   },
   "file_extension": ".py",
   "mimetype": "text/x-python",
   "name": "python",
   "nbconvert_exporter": "python",
   "pygments_lexer": "ipython3",
   "version": "3.8.5"
  }
 },
 "nbformat": 4,
 "nbformat_minor": 5
}
