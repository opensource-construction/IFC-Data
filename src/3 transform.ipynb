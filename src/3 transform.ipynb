{
 "cells": [
  {
   "cell_type": "markdown",
   "id": "5ddde9b6-c648-45d6-8c60-ae355f5109c0",
   "metadata": {},
   "source": [
    "# Transform the CSV"
   ]
  },
  {
   "cell_type": "code",
   "execution_count": 39,
   "id": "a7836fdf-2015-495c-8629-d76360284eb4",
   "metadata": {
    "editable": true,
    "slideshow": {
     "slide_type": ""
    },
    "tags": []
   },
   "outputs": [
    {
     "name": "stdout",
     "output_type": "stream",
     "text": [
      "Total number of rows: 7929\n",
      "Number of matches: 26964\n"
     ]
    }
   ],
   "source": [
    "import pandas as pd\n",
    "import json\n",
    "\n",
    "# Define the file paths\n",
    "csv_file = 'Niederscherli_raw.csv'\n",
    "json_file = 'transform.json'\n",
    "output_file = 'Niederscherli_transformed.csv'\n",
    "\n",
    "# Read in the CSV file and the JSON file\n",
    "df = pd.read_csv(csv_file)\n",
    "with open(json_file, 'r') as f:\n",
    "    config = json.load(f)\n",
    "\n",
    "# Total row count\n",
    "total_row_count = len(df)\n",
    "\n",
    "match_count = 0\n",
    "\n",
    "# Apply each condition/action pair from the JSON file\n",
    "for index, row in df.iterrows():\n",
    "    for condition_group in config['condition_groups']:\n",
    "        matched_all_conditions = True\n",
    "        for condition in condition_group['conditions']:\n",
    "            column = condition['column']\n",
    "            values = condition['value'] if isinstance(condition['value'], list) else [condition['value']]\n",
    "            operator = condition.get('operator', 'equals')  # Defaults to 'equals' if no operator provided\n",
    "\n",
    "            if operator == 'equals':\n",
    "                if row[column] not in values:\n",
    "                    matched_all_conditions = False\n",
    "                    break\n",
    "            elif operator == 'contains':\n",
    "                if not any(value in str(row[column]) for value in values):\n",
    "                    matched_all_conditions = False\n",
    "                    break\n",
    "\n",
    "        if matched_all_conditions:\n",
    "            match_count += 1\n",
    "            if 'actions' in condition_group:  # Check if 'actions' key exists\n",
    "                for action in condition_group['actions']:\n",
    "                    if action['type'] == 'set':\n",
    "                        df.at[index, action['target_column']] = action['value']\n",
    "                    elif action['type'] == 'copy':\n",
    "                        df.at[index, action['target_column']] = row[action['source_column']]\n",
    "\n",
    "# Save the updated DataFrame to a new CSV file\n",
    "df.to_csv(output_file, index=False)\n",
    "\n",
    "print(f'Total number of rows: {total_row_count}')\n",
    "print(f'Number of matches: {match_count}')\n"
   ]
  },
  {
   "cell_type": "markdown",
   "id": "c9e958ba-0c1f-4f74-b993-0c571a0d33ec",
   "metadata": {},
   "source": [
    "# Create the XLSX files for each building"
   ]
  },
  {
   "cell_type": "code",
   "execution_count": 38,
   "id": "07e441ab-b1ff-4499-9d25-a042b3e59305",
   "metadata": {},
   "outputs": [
    {
     "name": "stdout",
     "output_type": "stream",
     "text": [
      "Saved file: Niederscherli A.xlsx\n",
      "Saved file: Niederscherli B.xlsx\n",
      "Saved file: Niederscherli A2.xlsx\n",
      "Saved file: Niederscherli B2.xlsx\n",
      "Saved file: Niederscherli A1.xlsx\n",
      "Saved file: Niederscherli B1.xlsx\n",
      "Saved file: Niederscherli D.xlsx\n",
      "Saved file: Niederscherli STA.xlsx\n",
      "Saved file: Niederscherli C.xlsx\n",
      "Saved file: Niederscherli .xlsx\n",
      "Saved file: Niederscherli D1.xlsx\n",
      "Saved file: Niederscherli D2.xlsx\n",
      "Saved file: Niederscherli AB.xlsx\n",
      "Saved file: Niederscherli CD.xlsx\n",
      "Saved file: Niederscherli BHF.xlsx\n",
      "Saved file: Niederscherli SPE.xlsx\n"
     ]
    }
   ],
   "source": [
    "import csv\n",
    "import openpyxl\n",
    "import os\n",
    "from collections import defaultdict\n",
    "from openpyxl.utils import get_column_letter\n",
    "\n",
    "# Define the file path and project\n",
    "csv_file = 'Niederscherli_transformed.csv'\n",
    "project = 'Niederscherli'\n",
    "\n",
    "def csv_to_xlsx(csv_file, project):\n",
    "    with open(csv_file, 'r') as csvf:\n",
    "        reader = csv.reader(csvf)\n",
    "        headers = next(reader) # get the headers\n",
    "        data = defaultdict(list)\n",
    "        for row in reader:\n",
    "            data[row[headers.index(\"TIMBER_OS.Gebäudenummer\")]].append(row)\n",
    "\n",
    "    # Make export directory if it doesn't exist\n",
    "    if not os.path.exists(\"export\"):\n",
    "        os.makedirs(\"export\")\n",
    "\n",
    "    for key in data.keys():\n",
    "        wb = openpyxl.Workbook()\n",
    "        wb.guess_types = True\n",
    "        ws = wb.active\n",
    "        ws.append(headers)  # Write the header in xlsx\n",
    "        for row in data[key]:  \n",
    "            ws.append(row)  # Write the remaining rows in xlsx\n",
    "        # Save the file in the export directory\n",
    "        filename = f\"{project} {key}.xlsx\"\n",
    "        output_file = os.path.join(\"export\", filename)\n",
    "        wb.save(output_file)\n",
    "        print(f\"Saved file: {filename}\")\n",
    "\n",
    "csv_to_xlsx(csv_file, project)"
   ]
  },
  {
   "cell_type": "code",
   "execution_count": null,
   "id": "847bc303-5d01-4532-b6a8-cd81c314bd1c",
   "metadata": {
    "editable": true,
    "slideshow": {
     "slide_type": ""
    },
    "tags": []
   },
   "outputs": [],
   "source": []
  }
 ],
 "metadata": {
  "kernelspec": {
   "display_name": "Python 3",
   "language": "python",
   "name": "python3"
  },
  "language_info": {
   "codemirror_mode": {
    "name": "ipython",
    "version": 3
   },
   "file_extension": ".py",
   "mimetype": "text/x-python",
   "name": "python",
   "nbconvert_exporter": "python",
   "pygments_lexer": "ipython3",
   "version": "3.8.5"
  }
 },
 "nbformat": 4,
 "nbformat_minor": 5
}
